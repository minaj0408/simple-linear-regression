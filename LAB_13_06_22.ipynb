{
  "nbformat": 4,
  "nbformat_minor": 0,
  "metadata": {
    "colab": {
      "name": "LAB 13.06.22",
      "provenance": [],
      "collapsed_sections": []
    },
    "kernelspec": {
      "name": "python3",
      "display_name": "Python 3"
    },
    "language_info": {
      "name": "python"
    }
  },
  "cells": [
    {
      "cell_type": "code",
      "source": [
        "import pandas as pd\n",
        "import numpy as np\n",
        "import matplotlib.pyplot as plt\n",
        "\n"
      ],
      "metadata": {
        "id": "tp8YRoWuO5bL"
      },
      "execution_count": null,
      "outputs": []
    },
    {
      "cell_type": "code",
      "source": [
        "df= pd.read_csv(\"/content/FuelConsumption.csv\")"
      ],
      "metadata": {
        "id": "BYChUEnbb344"
      },
      "execution_count": null,
      "outputs": []
    },
    {
      "cell_type": "code",
      "source": [
        "df.head (10)"
      ],
      "metadata": {
        "colab": {
          "base_uri": "https://localhost:8080/",
          "height": 479
        },
        "id": "FjTQx5a4c5T1",
        "outputId": "9e44d24b-cd1c-491b-e8d4-de4756fcc9ea"
      },
      "execution_count": null,
      "outputs": [
        {
          "output_type": "execute_result",
          "data": {
            "text/plain": [
              "   MODELYEAR   MAKE       MODEL VEHICLECLASS  ENGINESIZE  CYLINDERS  \\\n",
              "0       2014  ACURA         ILX      COMPACT         2.0          4   \n",
              "1       2014  ACURA         ILX      COMPACT         2.4          4   \n",
              "2       2014  ACURA  ILX HYBRID      COMPACT         1.5          4   \n",
              "3       2014  ACURA     MDX 4WD  SUV - SMALL         3.5          6   \n",
              "4       2014  ACURA     RDX AWD  SUV - SMALL         3.5          6   \n",
              "5       2014  ACURA         RLX     MID-SIZE         3.5          6   \n",
              "6       2014  ACURA          TL     MID-SIZE         3.5          6   \n",
              "7       2014  ACURA      TL AWD     MID-SIZE         3.7          6   \n",
              "8       2014  ACURA      TL AWD     MID-SIZE         3.7          6   \n",
              "9       2014  ACURA         TSX      COMPACT         2.4          4   \n",
              "\n",
              "  TRANSMISSION FUELTYPE  FUELCONSUMPTION_CITY  FUELCONSUMPTION_HWY  \\\n",
              "0          AS5        Z                   9.9                  6.7   \n",
              "1           M6        Z                  11.2                  7.7   \n",
              "2          AV7        Z                   6.0                  5.8   \n",
              "3          AS6        Z                  12.7                  9.1   \n",
              "4          AS6        Z                  12.1                  8.7   \n",
              "5          AS6        Z                  11.9                  7.7   \n",
              "6          AS6        Z                  11.8                  8.1   \n",
              "7          AS6        Z                  12.8                  9.0   \n",
              "8           M6        Z                  13.4                  9.5   \n",
              "9          AS5        Z                  10.6                  7.5   \n",
              "\n",
              "   FUELCONSUMPTION_COMB  FUELCONSUMPTION_COMB_MPG  CO2EMISSIONS  \n",
              "0                   8.5                        33           196  \n",
              "1                   9.6                        29           221  \n",
              "2                   5.9                        48           136  \n",
              "3                  11.1                        25           255  \n",
              "4                  10.6                        27           244  \n",
              "5                  10.0                        28           230  \n",
              "6                  10.1                        28           232  \n",
              "7                  11.1                        25           255  \n",
              "8                  11.6                        24           267  \n",
              "9                   9.2                        31           212  "
            ],
            "text/html": [
              "\n",
              "  <div id=\"df-85a6e07e-2fd3-43fe-b090-5931e6d0959e\">\n",
              "    <div class=\"colab-df-container\">\n",
              "      <div>\n",
              "<style scoped>\n",
              "    .dataframe tbody tr th:only-of-type {\n",
              "        vertical-align: middle;\n",
              "    }\n",
              "\n",
              "    .dataframe tbody tr th {\n",
              "        vertical-align: top;\n",
              "    }\n",
              "\n",
              "    .dataframe thead th {\n",
              "        text-align: right;\n",
              "    }\n",
              "</style>\n",
              "<table border=\"1\" class=\"dataframe\">\n",
              "  <thead>\n",
              "    <tr style=\"text-align: right;\">\n",
              "      <th></th>\n",
              "      <th>MODELYEAR</th>\n",
              "      <th>MAKE</th>\n",
              "      <th>MODEL</th>\n",
              "      <th>VEHICLECLASS</th>\n",
              "      <th>ENGINESIZE</th>\n",
              "      <th>CYLINDERS</th>\n",
              "      <th>TRANSMISSION</th>\n",
              "      <th>FUELTYPE</th>\n",
              "      <th>FUELCONSUMPTION_CITY</th>\n",
              "      <th>FUELCONSUMPTION_HWY</th>\n",
              "      <th>FUELCONSUMPTION_COMB</th>\n",
              "      <th>FUELCONSUMPTION_COMB_MPG</th>\n",
              "      <th>CO2EMISSIONS</th>\n",
              "    </tr>\n",
              "  </thead>\n",
              "  <tbody>\n",
              "    <tr>\n",
              "      <th>0</th>\n",
              "      <td>2014</td>\n",
              "      <td>ACURA</td>\n",
              "      <td>ILX</td>\n",
              "      <td>COMPACT</td>\n",
              "      <td>2.0</td>\n",
              "      <td>4</td>\n",
              "      <td>AS5</td>\n",
              "      <td>Z</td>\n",
              "      <td>9.9</td>\n",
              "      <td>6.7</td>\n",
              "      <td>8.5</td>\n",
              "      <td>33</td>\n",
              "      <td>196</td>\n",
              "    </tr>\n",
              "    <tr>\n",
              "      <th>1</th>\n",
              "      <td>2014</td>\n",
              "      <td>ACURA</td>\n",
              "      <td>ILX</td>\n",
              "      <td>COMPACT</td>\n",
              "      <td>2.4</td>\n",
              "      <td>4</td>\n",
              "      <td>M6</td>\n",
              "      <td>Z</td>\n",
              "      <td>11.2</td>\n",
              "      <td>7.7</td>\n",
              "      <td>9.6</td>\n",
              "      <td>29</td>\n",
              "      <td>221</td>\n",
              "    </tr>\n",
              "    <tr>\n",
              "      <th>2</th>\n",
              "      <td>2014</td>\n",
              "      <td>ACURA</td>\n",
              "      <td>ILX HYBRID</td>\n",
              "      <td>COMPACT</td>\n",
              "      <td>1.5</td>\n",
              "      <td>4</td>\n",
              "      <td>AV7</td>\n",
              "      <td>Z</td>\n",
              "      <td>6.0</td>\n",
              "      <td>5.8</td>\n",
              "      <td>5.9</td>\n",
              "      <td>48</td>\n",
              "      <td>136</td>\n",
              "    </tr>\n",
              "    <tr>\n",
              "      <th>3</th>\n",
              "      <td>2014</td>\n",
              "      <td>ACURA</td>\n",
              "      <td>MDX 4WD</td>\n",
              "      <td>SUV - SMALL</td>\n",
              "      <td>3.5</td>\n",
              "      <td>6</td>\n",
              "      <td>AS6</td>\n",
              "      <td>Z</td>\n",
              "      <td>12.7</td>\n",
              "      <td>9.1</td>\n",
              "      <td>11.1</td>\n",
              "      <td>25</td>\n",
              "      <td>255</td>\n",
              "    </tr>\n",
              "    <tr>\n",
              "      <th>4</th>\n",
              "      <td>2014</td>\n",
              "      <td>ACURA</td>\n",
              "      <td>RDX AWD</td>\n",
              "      <td>SUV - SMALL</td>\n",
              "      <td>3.5</td>\n",
              "      <td>6</td>\n",
              "      <td>AS6</td>\n",
              "      <td>Z</td>\n",
              "      <td>12.1</td>\n",
              "      <td>8.7</td>\n",
              "      <td>10.6</td>\n",
              "      <td>27</td>\n",
              "      <td>244</td>\n",
              "    </tr>\n",
              "    <tr>\n",
              "      <th>5</th>\n",
              "      <td>2014</td>\n",
              "      <td>ACURA</td>\n",
              "      <td>RLX</td>\n",
              "      <td>MID-SIZE</td>\n",
              "      <td>3.5</td>\n",
              "      <td>6</td>\n",
              "      <td>AS6</td>\n",
              "      <td>Z</td>\n",
              "      <td>11.9</td>\n",
              "      <td>7.7</td>\n",
              "      <td>10.0</td>\n",
              "      <td>28</td>\n",
              "      <td>230</td>\n",
              "    </tr>\n",
              "    <tr>\n",
              "      <th>6</th>\n",
              "      <td>2014</td>\n",
              "      <td>ACURA</td>\n",
              "      <td>TL</td>\n",
              "      <td>MID-SIZE</td>\n",
              "      <td>3.5</td>\n",
              "      <td>6</td>\n",
              "      <td>AS6</td>\n",
              "      <td>Z</td>\n",
              "      <td>11.8</td>\n",
              "      <td>8.1</td>\n",
              "      <td>10.1</td>\n",
              "      <td>28</td>\n",
              "      <td>232</td>\n",
              "    </tr>\n",
              "    <tr>\n",
              "      <th>7</th>\n",
              "      <td>2014</td>\n",
              "      <td>ACURA</td>\n",
              "      <td>TL AWD</td>\n",
              "      <td>MID-SIZE</td>\n",
              "      <td>3.7</td>\n",
              "      <td>6</td>\n",
              "      <td>AS6</td>\n",
              "      <td>Z</td>\n",
              "      <td>12.8</td>\n",
              "      <td>9.0</td>\n",
              "      <td>11.1</td>\n",
              "      <td>25</td>\n",
              "      <td>255</td>\n",
              "    </tr>\n",
              "    <tr>\n",
              "      <th>8</th>\n",
              "      <td>2014</td>\n",
              "      <td>ACURA</td>\n",
              "      <td>TL AWD</td>\n",
              "      <td>MID-SIZE</td>\n",
              "      <td>3.7</td>\n",
              "      <td>6</td>\n",
              "      <td>M6</td>\n",
              "      <td>Z</td>\n",
              "      <td>13.4</td>\n",
              "      <td>9.5</td>\n",
              "      <td>11.6</td>\n",
              "      <td>24</td>\n",
              "      <td>267</td>\n",
              "    </tr>\n",
              "    <tr>\n",
              "      <th>9</th>\n",
              "      <td>2014</td>\n",
              "      <td>ACURA</td>\n",
              "      <td>TSX</td>\n",
              "      <td>COMPACT</td>\n",
              "      <td>2.4</td>\n",
              "      <td>4</td>\n",
              "      <td>AS5</td>\n",
              "      <td>Z</td>\n",
              "      <td>10.6</td>\n",
              "      <td>7.5</td>\n",
              "      <td>9.2</td>\n",
              "      <td>31</td>\n",
              "      <td>212</td>\n",
              "    </tr>\n",
              "  </tbody>\n",
              "</table>\n",
              "</div>\n",
              "      <button class=\"colab-df-convert\" onclick=\"convertToInteractive('df-85a6e07e-2fd3-43fe-b090-5931e6d0959e')\"\n",
              "              title=\"Convert this dataframe to an interactive table.\"\n",
              "              style=\"display:none;\">\n",
              "        \n",
              "  <svg xmlns=\"http://www.w3.org/2000/svg\" height=\"24px\"viewBox=\"0 0 24 24\"\n",
              "       width=\"24px\">\n",
              "    <path d=\"M0 0h24v24H0V0z\" fill=\"none\"/>\n",
              "    <path d=\"M18.56 5.44l.94 2.06.94-2.06 2.06-.94-2.06-.94-.94-2.06-.94 2.06-2.06.94zm-11 1L8.5 8.5l.94-2.06 2.06-.94-2.06-.94L8.5 2.5l-.94 2.06-2.06.94zm10 10l.94 2.06.94-2.06 2.06-.94-2.06-.94-.94-2.06-.94 2.06-2.06.94z\"/><path d=\"M17.41 7.96l-1.37-1.37c-.4-.4-.92-.59-1.43-.59-.52 0-1.04.2-1.43.59L10.3 9.45l-7.72 7.72c-.78.78-.78 2.05 0 2.83L4 21.41c.39.39.9.59 1.41.59.51 0 1.02-.2 1.41-.59l7.78-7.78 2.81-2.81c.8-.78.8-2.07 0-2.86zM5.41 20L4 18.59l7.72-7.72 1.47 1.35L5.41 20z\"/>\n",
              "  </svg>\n",
              "      </button>\n",
              "      \n",
              "  <style>\n",
              "    .colab-df-container {\n",
              "      display:flex;\n",
              "      flex-wrap:wrap;\n",
              "      gap: 12px;\n",
              "    }\n",
              "\n",
              "    .colab-df-convert {\n",
              "      background-color: #E8F0FE;\n",
              "      border: none;\n",
              "      border-radius: 50%;\n",
              "      cursor: pointer;\n",
              "      display: none;\n",
              "      fill: #1967D2;\n",
              "      height: 32px;\n",
              "      padding: 0 0 0 0;\n",
              "      width: 32px;\n",
              "    }\n",
              "\n",
              "    .colab-df-convert:hover {\n",
              "      background-color: #E2EBFA;\n",
              "      box-shadow: 0px 1px 2px rgba(60, 64, 67, 0.3), 0px 1px 3px 1px rgba(60, 64, 67, 0.15);\n",
              "      fill: #174EA6;\n",
              "    }\n",
              "\n",
              "    [theme=dark] .colab-df-convert {\n",
              "      background-color: #3B4455;\n",
              "      fill: #D2E3FC;\n",
              "    }\n",
              "\n",
              "    [theme=dark] .colab-df-convert:hover {\n",
              "      background-color: #434B5C;\n",
              "      box-shadow: 0px 1px 3px 1px rgba(0, 0, 0, 0.15);\n",
              "      filter: drop-shadow(0px 1px 2px rgba(0, 0, 0, 0.3));\n",
              "      fill: #FFFFFF;\n",
              "    }\n",
              "  </style>\n",
              "\n",
              "      <script>\n",
              "        const buttonEl =\n",
              "          document.querySelector('#df-85a6e07e-2fd3-43fe-b090-5931e6d0959e button.colab-df-convert');\n",
              "        buttonEl.style.display =\n",
              "          google.colab.kernel.accessAllowed ? 'block' : 'none';\n",
              "\n",
              "        async function convertToInteractive(key) {\n",
              "          const element = document.querySelector('#df-85a6e07e-2fd3-43fe-b090-5931e6d0959e');\n",
              "          const dataTable =\n",
              "            await google.colab.kernel.invokeFunction('convertToInteractive',\n",
              "                                                     [key], {});\n",
              "          if (!dataTable) return;\n",
              "\n",
              "          const docLinkHtml = 'Like what you see? Visit the ' +\n",
              "            '<a target=\"_blank\" href=https://colab.research.google.com/notebooks/data_table.ipynb>data table notebook</a>'\n",
              "            + ' to learn more about interactive tables.';\n",
              "          element.innerHTML = '';\n",
              "          dataTable['output_type'] = 'display_data';\n",
              "          await google.colab.output.renderOutput(dataTable, element);\n",
              "          const docLink = document.createElement('div');\n",
              "          docLink.innerHTML = docLinkHtml;\n",
              "          element.appendChild(docLink);\n",
              "        }\n",
              "      </script>\n",
              "    </div>\n",
              "  </div>\n",
              "  "
            ]
          },
          "metadata": {},
          "execution_count": 5
        }
      ]
    },
    {
      "cell_type": "code",
      "source": [
        "df.shape"
      ],
      "metadata": {
        "colab": {
          "base_uri": "https://localhost:8080/"
        },
        "id": "rU-Y0Vh1dFof",
        "outputId": "ed6992ff-76c6-4a2d-cf33-e4a3f8805088"
      },
      "execution_count": null,
      "outputs": [
        {
          "output_type": "execute_result",
          "data": {
            "text/plain": [
              "(1067, 13)"
            ]
          },
          "metadata": {},
          "execution_count": 6
        }
      ]
    },
    {
      "cell_type": "code",
      "source": [
        "x=df[[\"ENGINESIZE\"]].values\n",
        "y=df[\"CO2EMISSIONS\"].values"
      ],
      "metadata": {
        "id": "kqVm1LFueCr_"
      },
      "execution_count": null,
      "outputs": []
    },
    {
      "cell_type": "code",
      "source": [
        "df.isnull().sum()"
      ],
      "metadata": {
        "colab": {
          "base_uri": "https://localhost:8080/"
        },
        "id": "2zVu00lGgEE4",
        "outputId": "9bdeb0f2-418c-4b11-b95f-09964cb3f4b0"
      },
      "execution_count": null,
      "outputs": [
        {
          "output_type": "execute_result",
          "data": {
            "text/plain": [
              "MODELYEAR                   0\n",
              "MAKE                        0\n",
              "MODEL                       0\n",
              "VEHICLECLASS                0\n",
              "ENGINESIZE                  0\n",
              "CYLINDERS                   0\n",
              "TRANSMISSION                0\n",
              "FUELTYPE                    0\n",
              "FUELCONSUMPTION_CITY        0\n",
              "FUELCONSUMPTION_HWY         0\n",
              "FUELCONSUMPTION_COMB        0\n",
              "FUELCONSUMPTION_COMB_MPG    0\n",
              "CO2EMISSIONS                0\n",
              "dtype: int64"
            ]
          },
          "metadata": {},
          "execution_count": 19
        }
      ]
    },
    {
      "cell_type": "code",
      "source": [
        "x"
      ],
      "metadata": {
        "colab": {
          "base_uri": "https://localhost:8080/"
        },
        "id": "CQZZY-g-gK-w",
        "outputId": "ea453137-6a4e-4a3a-fcb2-aac8396543ed"
      },
      "execution_count": null,
      "outputs": [
        {
          "output_type": "execute_result",
          "data": {
            "text/plain": [
              "array([[2. ],\n",
              "       [2.4],\n",
              "       [1.5],\n",
              "       ...,\n",
              "       [3. ],\n",
              "       [3.2],\n",
              "       [3.2]])"
            ]
          },
          "metadata": {},
          "execution_count": 20
        }
      ]
    },
    {
      "cell_type": "code",
      "source": [
        "y"
      ],
      "metadata": {
        "colab": {
          "base_uri": "https://localhost:8080/"
        },
        "id": "ItH2gxrtgxcJ",
        "outputId": "90801a20-7f0b-4a8d-dd45-1d996374256d"
      },
      "execution_count": null,
      "outputs": [
        {
          "output_type": "execute_result",
          "data": {
            "text/plain": [
              "array([196, 221, 136, ..., 271, 260, 294])"
            ]
          },
          "metadata": {},
          "execution_count": 21
        }
      ]
    },
    {
      "cell_type": "code",
      "source": [
        "from sklearn.model_selection import train_test_split"
      ],
      "metadata": {
        "id": "xy2bxwnQjHg5"
      },
      "execution_count": null,
      "outputs": []
    },
    {
      "cell_type": "code",
      "source": [
        "x_train,x_test,y_train,y_test=train_test_split(x,y,test_size=.25,random_state=1)"
      ],
      "metadata": {
        "id": "Q9rO5PTTjWix"
      },
      "execution_count": null,
      "outputs": []
    },
    {
      "cell_type": "code",
      "source": [
        "reg=LinearRegression()"
      ],
      "metadata": {
        "id": "xVbucSDNiol6"
      },
      "execution_count": null,
      "outputs": []
    },
    {
      "cell_type": "code",
      "source": [
        "reg.fit(x_train, y_train)\n"
      ],
      "metadata": {
        "colab": {
          "base_uri": "https://localhost:8080/"
        },
        "id": "zgEqJlr9ixd4",
        "outputId": "c6811c09-e51e-4035-9c9d-cc189ef88c01"
      },
      "execution_count": null,
      "outputs": [
        {
          "output_type": "execute_result",
          "data": {
            "text/plain": [
              "LinearRegression()"
            ]
          },
          "metadata": {},
          "execution_count": 40
        }
      ]
    },
    {
      "cell_type": "code",
      "source": [
        "reg.predict(x_test)"
      ],
      "metadata": {
        "colab": {
          "base_uri": "https://localhost:8080/"
        },
        "id": "DN1MnVzdjT2Z",
        "outputId": "dceb667b-e9c6-4afa-9870-bde17d2ae72c"
      },
      "execution_count": null,
      "outputs": [
        {
          "output_type": "execute_result",
          "data": {
            "text/plain": [
              "array([242.88082083, 179.60282889, 203.33207587, 203.33207587,\n",
              "       306.15881277, 242.88082083, 203.33207587, 195.42232688,\n",
              "       242.88082083, 219.15157386, 219.15157386, 242.88082083,\n",
              "       219.15157386, 329.88805975, 223.10644835, 223.10644835,\n",
              "       187.51257789, 298.24906378, 262.65519331, 219.15157386,\n",
              "       361.52705572, 223.10644835, 270.56494231, 262.65519331,\n",
              "       270.56494231, 242.88082083, 171.6930799 , 341.75268324,\n",
              "       187.51257789, 203.33207587, 242.88082083, 329.88805975,\n",
              "       262.65519331, 333.84293425, 282.42956579, 333.84293425,\n",
              "       369.43680471, 183.55770339, 290.33931479, 254.74544432,\n",
              "       242.88082083, 373.39167921, 203.33207587, 266.61006781,\n",
              "       270.56494231, 203.33207587, 179.60282889, 179.60282889,\n",
              "       203.33207587, 258.70031882, 187.51257789, 349.66243223,\n",
              "       294.29418928, 369.43680471, 203.33207587, 270.56494231,\n",
              "       223.10644835, 321.97831076, 270.56494231, 187.51257789,\n",
              "       219.15157386, 231.01619734, 203.33207587, 203.33207587,\n",
              "       203.33207587, 195.42232688, 270.56494231, 266.61006781,\n",
              "       203.33207587, 187.51257789, 203.33207587, 203.33207587,\n",
              "       266.61006781, 262.65519331, 321.97831076, 369.43680471,\n",
              "       203.33207587, 369.43680471, 203.33207587, 270.56494231,\n",
              "       369.43680471, 179.60282889, 349.66243223, 321.97831076,\n",
              "       203.33207587, 369.43680471, 274.5198168 , 262.65519331,\n",
              "       203.33207587, 266.61006781, 333.84293425, 298.24906378,\n",
              "       203.33207587, 262.65519331, 203.33207587, 203.33207587,\n",
              "       333.84293425, 389.21117719, 203.33207587, 282.42956579,\n",
              "       219.15157386, 369.43680471, 203.33207587, 262.65519331,\n",
              "       187.51257789, 298.24906378, 195.42232688, 333.84293425,\n",
              "       195.42232688, 203.33207587, 219.15157386, 369.43680471,\n",
              "       341.75268324, 298.24906378, 333.84293425, 262.65519331,\n",
              "       223.10644835, 223.10644835, 321.97831076, 203.33207587,\n",
              "       274.5198168 , 294.29418928, 203.33207587, 270.56494231,\n",
              "       203.33207587, 203.33207587, 349.66243223, 349.66243223,\n",
              "       310.11368727, 203.33207587, 219.15157386, 187.51257789,\n",
              "       266.61006781, 266.61006781, 333.84293425, 310.11368727,\n",
              "       321.97831076, 187.51257789, 333.84293425, 219.15157386,\n",
              "       179.60282889, 203.33207587, 203.33207587, 171.6930799 ,\n",
              "       310.11368727, 203.33207587, 321.97831076, 337.79780874,\n",
              "       333.84293425, 266.61006781, 203.33207587, 242.88082083,\n",
              "       357.57218122, 345.70755773, 262.65519331, 223.10644835,\n",
              "       262.65519331, 369.43680471, 195.42232688, 203.33207587,\n",
              "       187.51257789, 266.61006781, 282.42956579, 179.60282889,\n",
              "       242.88082083, 349.66243223, 203.33207587, 262.65519331,\n",
              "       349.66243223, 262.65519331, 270.56494231, 310.11368727,\n",
              "       282.42956579, 187.51257789, 321.97831076, 242.88082083,\n",
              "       369.43680471, 258.70031882, 183.55770339, 361.52705572,\n",
              "       282.42956579, 333.84293425, 242.88082083, 179.60282889,\n",
              "       262.65519331, 262.65519331, 219.15157386, 262.65519331,\n",
              "       262.65519331, 179.60282889, 203.33207587, 187.51257789,\n",
              "       219.15157386, 361.52705572, 298.24906378, 266.61006781,\n",
              "       262.65519331, 258.70031882, 349.66243223, 298.24906378,\n",
              "       262.65519331, 274.5198168 , 262.65519331, 266.61006781,\n",
              "       266.61006781, 203.33207587, 187.51257789, 274.5198168 ,\n",
              "       219.15157386, 266.61006781, 187.51257789, 274.5198168 ,\n",
              "       270.56494231, 203.33207587, 242.88082083, 377.3465537 ,\n",
              "       223.10644835, 314.06856176, 282.42956579, 183.55770339,\n",
              "       187.51257789, 203.33207587, 250.79056983, 266.61006781,\n",
              "       369.43680471, 242.88082083, 298.24906378, 203.33207587,\n",
              "       262.65519331, 262.65519331, 262.65519331, 187.51257789,\n",
              "       179.60282889, 349.66243223, 321.97831076, 203.33207587,\n",
              "       179.60282889, 266.61006781, 321.97831076, 345.70755773,\n",
              "       314.06856176, 223.10644835, 203.33207587, 369.43680471,\n",
              "       321.97831076, 242.88082083, 187.51257789, 258.70031882,\n",
              "       219.15157386, 270.56494231, 321.97831076, 270.56494231,\n",
              "       262.65519331, 349.66243223, 187.51257789, 250.79056983,\n",
              "       329.88805975, 282.42956579, 321.97831076, 266.61006781,\n",
              "       262.65519331, 242.88082083, 294.29418928, 345.70755773,\n",
              "       195.42232688, 262.65519331, 203.33207587])"
            ]
          },
          "metadata": {},
          "execution_count": 42
        }
      ]
    },
    {
      "cell_type": "code",
      "source": [
        "reg.intercept_"
      ],
      "metadata": {
        "colab": {
          "base_uri": "https://localhost:8080/"
        },
        "id": "BROfQGBUj3bi",
        "outputId": "5d2bee67-7a1f-4608-d350-08e2fa579806"
      },
      "execution_count": null,
      "outputs": [
        {
          "output_type": "execute_result",
          "data": {
            "text/plain": [
              "124.23458594672331"
            ]
          },
          "metadata": {},
          "execution_count": 43
        }
      ]
    },
    {
      "cell_type": "code",
      "source": [
        "reg.coef_"
      ],
      "metadata": {
        "colab": {
          "base_uri": "https://localhost:8080/"
        },
        "id": "wN5LkCChj80p",
        "outputId": "7018c41f-691f-4784-c336-4349846f271d"
      },
      "execution_count": null,
      "outputs": [
        {
          "output_type": "execute_result",
          "data": {
            "text/plain": [
              "array([39.54874496])"
            ]
          },
          "metadata": {},
          "execution_count": 44
        }
      ]
    },
    {
      "cell_type": "code",
      "source": [
        "reg.predict(x_test)"
      ],
      "metadata": {
        "colab": {
          "base_uri": "https://localhost:8080/"
        },
        "id": "7oIOkPWFj_HJ",
        "outputId": "d8edb8bd-b8bb-4873-8564-45ec6a67a108"
      },
      "execution_count": null,
      "outputs": [
        {
          "output_type": "execute_result",
          "data": {
            "text/plain": [
              "array([242.88082083, 179.60282889, 203.33207587, 203.33207587,\n",
              "       306.15881277, 242.88082083, 203.33207587, 195.42232688,\n",
              "       242.88082083, 219.15157386, 219.15157386, 242.88082083,\n",
              "       219.15157386, 329.88805975, 223.10644835, 223.10644835,\n",
              "       187.51257789, 298.24906378, 262.65519331, 219.15157386,\n",
              "       361.52705572, 223.10644835, 270.56494231, 262.65519331,\n",
              "       270.56494231, 242.88082083, 171.6930799 , 341.75268324,\n",
              "       187.51257789, 203.33207587, 242.88082083, 329.88805975,\n",
              "       262.65519331, 333.84293425, 282.42956579, 333.84293425,\n",
              "       369.43680471, 183.55770339, 290.33931479, 254.74544432,\n",
              "       242.88082083, 373.39167921, 203.33207587, 266.61006781,\n",
              "       270.56494231, 203.33207587, 179.60282889, 179.60282889,\n",
              "       203.33207587, 258.70031882, 187.51257789, 349.66243223,\n",
              "       294.29418928, 369.43680471, 203.33207587, 270.56494231,\n",
              "       223.10644835, 321.97831076, 270.56494231, 187.51257789,\n",
              "       219.15157386, 231.01619734, 203.33207587, 203.33207587,\n",
              "       203.33207587, 195.42232688, 270.56494231, 266.61006781,\n",
              "       203.33207587, 187.51257789, 203.33207587, 203.33207587,\n",
              "       266.61006781, 262.65519331, 321.97831076, 369.43680471,\n",
              "       203.33207587, 369.43680471, 203.33207587, 270.56494231,\n",
              "       369.43680471, 179.60282889, 349.66243223, 321.97831076,\n",
              "       203.33207587, 369.43680471, 274.5198168 , 262.65519331,\n",
              "       203.33207587, 266.61006781, 333.84293425, 298.24906378,\n",
              "       203.33207587, 262.65519331, 203.33207587, 203.33207587,\n",
              "       333.84293425, 389.21117719, 203.33207587, 282.42956579,\n",
              "       219.15157386, 369.43680471, 203.33207587, 262.65519331,\n",
              "       187.51257789, 298.24906378, 195.42232688, 333.84293425,\n",
              "       195.42232688, 203.33207587, 219.15157386, 369.43680471,\n",
              "       341.75268324, 298.24906378, 333.84293425, 262.65519331,\n",
              "       223.10644835, 223.10644835, 321.97831076, 203.33207587,\n",
              "       274.5198168 , 294.29418928, 203.33207587, 270.56494231,\n",
              "       203.33207587, 203.33207587, 349.66243223, 349.66243223,\n",
              "       310.11368727, 203.33207587, 219.15157386, 187.51257789,\n",
              "       266.61006781, 266.61006781, 333.84293425, 310.11368727,\n",
              "       321.97831076, 187.51257789, 333.84293425, 219.15157386,\n",
              "       179.60282889, 203.33207587, 203.33207587, 171.6930799 ,\n",
              "       310.11368727, 203.33207587, 321.97831076, 337.79780874,\n",
              "       333.84293425, 266.61006781, 203.33207587, 242.88082083,\n",
              "       357.57218122, 345.70755773, 262.65519331, 223.10644835,\n",
              "       262.65519331, 369.43680471, 195.42232688, 203.33207587,\n",
              "       187.51257789, 266.61006781, 282.42956579, 179.60282889,\n",
              "       242.88082083, 349.66243223, 203.33207587, 262.65519331,\n",
              "       349.66243223, 262.65519331, 270.56494231, 310.11368727,\n",
              "       282.42956579, 187.51257789, 321.97831076, 242.88082083,\n",
              "       369.43680471, 258.70031882, 183.55770339, 361.52705572,\n",
              "       282.42956579, 333.84293425, 242.88082083, 179.60282889,\n",
              "       262.65519331, 262.65519331, 219.15157386, 262.65519331,\n",
              "       262.65519331, 179.60282889, 203.33207587, 187.51257789,\n",
              "       219.15157386, 361.52705572, 298.24906378, 266.61006781,\n",
              "       262.65519331, 258.70031882, 349.66243223, 298.24906378,\n",
              "       262.65519331, 274.5198168 , 262.65519331, 266.61006781,\n",
              "       266.61006781, 203.33207587, 187.51257789, 274.5198168 ,\n",
              "       219.15157386, 266.61006781, 187.51257789, 274.5198168 ,\n",
              "       270.56494231, 203.33207587, 242.88082083, 377.3465537 ,\n",
              "       223.10644835, 314.06856176, 282.42956579, 183.55770339,\n",
              "       187.51257789, 203.33207587, 250.79056983, 266.61006781,\n",
              "       369.43680471, 242.88082083, 298.24906378, 203.33207587,\n",
              "       262.65519331, 262.65519331, 262.65519331, 187.51257789,\n",
              "       179.60282889, 349.66243223, 321.97831076, 203.33207587,\n",
              "       179.60282889, 266.61006781, 321.97831076, 345.70755773,\n",
              "       314.06856176, 223.10644835, 203.33207587, 369.43680471,\n",
              "       321.97831076, 242.88082083, 187.51257789, 258.70031882,\n",
              "       219.15157386, 270.56494231, 321.97831076, 270.56494231,\n",
              "       262.65519331, 349.66243223, 187.51257789, 250.79056983,\n",
              "       329.88805975, 282.42956579, 321.97831076, 266.61006781,\n",
              "       262.65519331, 242.88082083, 294.29418928, 345.70755773,\n",
              "       195.42232688, 262.65519331, 203.33207587])"
            ]
          },
          "metadata": {},
          "execution_count": 46
        }
      ]
    },
    {
      "cell_type": "code",
      "source": [
        "reg.score(x_test,y_test)\n"
      ],
      "metadata": {
        "colab": {
          "base_uri": "https://localhost:8080/"
        },
        "id": "OFxAeRxikGyG",
        "outputId": "22f7dfe3-e100-4871-c66c-ece3a72bfce9"
      },
      "execution_count": null,
      "outputs": [
        {
          "output_type": "execute_result",
          "data": {
            "text/plain": [
              "0.7633265438534859"
            ]
          },
          "metadata": {},
          "execution_count": 48
        }
      ]
    }
  ]
}